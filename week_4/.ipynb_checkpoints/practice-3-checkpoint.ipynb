{
 "cells": [
  {
   "cell_type": "code",
   "execution_count": null,
   "id": "2f501c68",
   "metadata": {},
   "outputs": [],
   "source": [
    "#Robert Edge Detection\n",
    "\n",
    "import cv2\n",
    "import numpy as np\n",
    "\n",
    "# Load the image\n",
    "image = cv2.imread('img/emma.jpeg', cv2.IMREAD_GRAYSCALE)\n",
    "\n",
    "# Perform Gaussian Blur\n",
    "image = cv2.GaussianBlur(image, (5,5), 0)\n",
    "\n",
    "# Define Robert kernels\n",
    "kernel_x = np.array([[1, 0],\n",
    "                     [0, -1]])\n",
    "\n",
    "kernel_y = np.array([[ 0, 1],\n",
    "                     [-1, 0]])\n",
    "\n",
    "#Apply Robert edge detection\n",
    "robert_x = cv2.filter2D(image, -1, kernel_x)\n",
    "robert_y = cv2.filter2D(image, -1, kernel_y)\n",
    "\n",
    "# Combine the gradient images\n",
    "robert_combined = np.sqrt(np.square(robert_x) + np.square(robert_y))\n",
    "\n",
    "#Display the original image and the Robert edges\n",
    "cv2.imshow('Original', image)\n",
    "cv2.imshow('Robert Edges', np.uint8(robert_combined))\n",
    "\n",
    "#Wait for a key press and close all windows\n",
    "cv2.waitKey(0)\n",
    "cv2.destroyAllWindows()"
   ]
  },
  {
   "cell_type": "code",
   "execution_count": null,
   "id": "3b0566fc",
   "metadata": {},
   "outputs": [],
   "source": []
  }
 ],
 "metadata": {
  "kernelspec": {
   "display_name": "Python 3 (ipykernel)",
   "language": "python",
   "name": "python3"
  },
  "language_info": {
   "codemirror_mode": {
    "name": "ipython",
    "version": 3
   },
   "file_extension": ".py",
   "mimetype": "text/x-python",
   "name": "python",
   "nbconvert_exporter": "python",
   "pygments_lexer": "ipython3",
   "version": "3.10.9"
  }
 },
 "nbformat": 4,
 "nbformat_minor": 5
}
