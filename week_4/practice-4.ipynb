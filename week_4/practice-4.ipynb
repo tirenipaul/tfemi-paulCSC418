{
 "cells": [
  {
   "cell_type": "code",
   "execution_count": null,
   "id": "0405870b",
   "metadata": {},
   "outputs": [],
   "source": [
    "#Laplacian Edge Detection\n",
    "\n",
    "import cv2\n",
    "\n",
    "# Load the image\n",
    "image = cv2.imread('img/snoop.jpeg', cv2.IMREAD_GRAYSCALE)\n",
    "\n",
    "# Resize images\n",
    "image = cv2.resize(image, (400,400))\n",
    "\n",
    "# Perform Gausian Blur\n",
    "#Image = cv2.GaussianBlur(image, (5, 5), 0)\n",
    "\n",
    "#Apply Laplacian edge detection\n",
    "laplacian = cv2.Laplacian(image, cv2.CV_64F)\n",
    "\n",
    "# Convert th eoutput to an 8-bit image\n",
    "laplacian = cv2.convertScaleAbs(laplacian)\n",
    "\n",
    "#Display the original image and the Prewitt edges\n",
    "cv2.imshow('Original', image)\n",
    "cv2.imshow('Laplacian Edges', laplacian)\n",
    "\n",
    "#Wait for a key press and close all windows\n",
    "cv2.waitKey(0)\n",
    "cv2.destroyAllWindows()"
   ]
  },
  {
   "cell_type": "code",
   "execution_count": null,
   "id": "bc885f98",
   "metadata": {},
   "outputs": [],
   "source": []
  }
 ],
 "metadata": {
  "kernelspec": {
   "display_name": "Python 3 (ipykernel)",
   "language": "python",
   "name": "python3"
  },
  "language_info": {
   "codemirror_mode": {
    "name": "ipython",
    "version": 3
   },
   "file_extension": ".py",
   "mimetype": "text/x-python",
   "name": "python",
   "nbconvert_exporter": "python",
   "pygments_lexer": "ipython3",
   "version": "3.10.9"
  }
 },
 "nbformat": 4,
 "nbformat_minor": 5
}
