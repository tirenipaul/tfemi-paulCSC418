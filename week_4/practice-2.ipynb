{
 "cells": [
  {
   "cell_type": "code",
   "execution_count": null,
   "id": "abd2821d",
   "metadata": {},
   "outputs": [],
   "source": [
    "#Prewitt Edge Detection\n",
    "\n",
    "import cv2\n",
    "import numpy as np\n",
    "\n",
    "# Load the image\n",
    "image = cv2.imread('img/emma.jpeg', cv2.IMREAD_GRAYSCALE)\n",
    "\n",
    "# Resize images\n",
    "image = cv2.resize(image, (500,400))\n",
    "\n",
    "# Define Prewitt kernels\n",
    "kernel_x = np.array([[-1, -1, -1],\n",
    "                     [0, 0, 0],\n",
    "                     [1, 1, 1]])\n",
    "\n",
    "kernel_y = np.array([[-1, 0, 1],\n",
    "                     [-1, 0, 1],\n",
    "                     [-1, 0, 1]])\n",
    "\n",
    "#Apply Prewitt edge detection\n",
    "prewitt_x = cv2.filter2D(image, -1, kernel_x)\n",
    "prewitt_y = cv2.filter2D(image, -1, kernel_y)\n",
    "\n",
    "# Compute magnitude of gradients manually\n",
    "prewitt_combined = np.sqrt(np.square(prewitt_x) + np.square(prewitt_y))\n",
    "\n",
    "#Display the original image and the Prewitt edges\n",
    "cv2.imshow('Original', image)\n",
    "cv2.imshow('Prewitt Edges', np.uint8(prewitt_combined))\n",
    "\n",
    "#Wait for a key press and close all windows\n",
    "cv2.waitKey(0)\n",
    "cv2.destroyAllWindows()"
   ]
  },
  {
   "cell_type": "code",
   "execution_count": null,
   "id": "def17da8",
   "metadata": {},
   "outputs": [],
   "source": []
  }
 ],
 "metadata": {
  "kernelspec": {
   "display_name": "Python 3 (ipykernel)",
   "language": "python",
   "name": "python3"
  },
  "language_info": {
   "codemirror_mode": {
    "name": "ipython",
    "version": 3
   },
   "file_extension": ".py",
   "mimetype": "text/x-python",
   "name": "python",
   "nbconvert_exporter": "python",
   "pygments_lexer": "ipython3",
   "version": "3.10.9"
  }
 },
 "nbformat": 4,
 "nbformat_minor": 5
}
