{
 "cells": [
  {
   "cell_type": "code",
   "execution_count": null,
   "id": "1bfb798f",
   "metadata": {},
   "outputs": [],
   "source": [
    "# Importing the OpenCV library\n",
    "import cv2\n",
    "\n",
    "#path\n",
    "path = 'img/eye.jpeg'\n",
    "\n",
    "#Reading the image using imread() function\n",
    "img = cv2.imread(path)\n",
    "\n",
    "#Window name in which image is displayed\n",
    "window_name = 'Display Image'\n",
    "\n",
    "#Display image\n",
    "cv2.imshow(window_name, img)\n",
    "\n",
    "# Hold the window\n",
    "cv2.waitKey(0)\n",
    "\n",
    "# Remove/delete created GUI window from screen and memory\n",
    "#cv2.destroyAllWindows()"
   ]
  },
  {
   "cell_type": "code",
   "execution_count": 3,
   "id": "3f60aa94",
   "metadata": {},
   "outputs": [],
   "source": []
  },
  {
   "cell_type": "code",
   "execution_count": 5,
   "id": "8f1a8e70",
   "metadata": {},
   "outputs": [
    {
     "name": "stdout",
     "output_type": "stream",
     "text": [
      "None\n"
     ]
    }
   ],
   "source": []
  },
  {
   "cell_type": "code",
   "execution_count": null,
   "id": "7a44806d",
   "metadata": {},
   "outputs": [],
   "source": []
  }
 ],
 "metadata": {
  "kernelspec": {
   "display_name": "Python 3 (ipykernel)",
   "language": "python",
   "name": "python3"
  },
  "language_info": {
   "codemirror_mode": {
    "name": "ipython",
    "version": 3
   },
   "file_extension": ".py",
   "mimetype": "text/x-python",
   "name": "python",
   "nbconvert_exporter": "python",
   "pygments_lexer": "ipython3",
   "version": "3.10.9"
  }
 },
 "nbformat": 4,
 "nbformat_minor": 5
}
