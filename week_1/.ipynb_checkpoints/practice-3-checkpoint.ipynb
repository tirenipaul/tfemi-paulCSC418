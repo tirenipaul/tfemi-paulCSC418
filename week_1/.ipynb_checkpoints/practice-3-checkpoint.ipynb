{
 "cells": [
  {
   "cell_type": "code",
   "execution_count": 1,
   "id": "14f20945",
   "metadata": {},
   "outputs": [
    {
     "name": "stdout",
     "output_type": "stream",
     "text": [
      "Before saving image: \n",
      "['bird.jpeg', 'earth.jpeg', 'eye.jpeg', 'mountain.jpeg', 'tree.jpeg']\n",
      "After saving image: \n",
      "['bird.jpeg', 'earth.jpeg', 'eye.jpeg', 'grayImage.jpg', 'mountain.jpeg', 'tree.jpeg']\n",
      "Successfully saved\n"
     ]
    }
   ],
   "source": [
    "#Python program to explain cv2.imwrite() method\n",
    "\n",
    "# importing cv2\n",
    "import cv2\n",
    "\n",
    "# importing os module\n",
    "import os\n",
    "\n",
    "# Image path\n",
    "image_path = r'C:\\Users\\Tireni\\Documents\\tfemi-paulCSC418\\week_1\\img\\tree.jpeg'\n",
    "\n",
    "# Image directory\n",
    "directory = r'C:\\Users\\Tireni\\Documents\\tfemi-paulCSC418\\week_1\\img'\n",
    "\n",
    "# Using cv2.imread() method to read the image\n",
    "img = cv2.imread(image_path, 0)\n",
    "\n",
    "# Change the current directory to specified directory\n",
    "os.chdir(directory)\n",
    "\n",
    "# List files and directories\n",
    "print(\"Before saving image: \")\n",
    "print(os.listdir(directory))\n",
    "\n",
    "# Filename\n",
    "filename = 'grayImage.jpg'\n",
    "\n",
    "# Using cv2.imwrite() method save the image\n",
    "cv2.imwrite(filename, img)\n",
    "\n",
    "# List files and directories\n",
    "print(\"After saving image: \")\n",
    "print(os.listdir(directory))\n",
    "\n",
    "print('Successfully saved')"
   ]
  },
  {
   "cell_type": "code",
   "execution_count": null,
   "id": "7dfa48d1",
   "metadata": {},
   "outputs": [],
   "source": []
  },
  {
   "cell_type": "code",
   "execution_count": null,
   "id": "9e0df39c",
   "metadata": {},
   "outputs": [],
   "source": []
  }
 ],
 "metadata": {
  "kernelspec": {
   "display_name": "Python 3 (ipykernel)",
   "language": "python",
   "name": "python3"
  },
  "language_info": {
   "codemirror_mode": {
    "name": "ipython",
    "version": 3
   },
   "file_extension": ".py",
   "mimetype": "text/x-python",
   "name": "python",
   "nbconvert_exporter": "python",
   "pygments_lexer": "ipython3",
   "version": "3.10.9"
  }
 },
 "nbformat": 4,
 "nbformat_minor": 5
}
