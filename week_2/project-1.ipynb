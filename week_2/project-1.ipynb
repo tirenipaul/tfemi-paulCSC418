{
 "cells": [
  {
   "cell_type": "code",
   "execution_count": null,
   "id": "5594b4a0",
   "metadata": {},
   "outputs": [
    {
     "name": "stdout",
     "output_type": "stream",
     "text": [
      "University Management Council (UMC) Login\n",
      "Please enter your username: sola\n",
      "Please input your password: 3\n",
      "Login Successful! Welcome Sola Oni!\n"
     ]
    }
   ],
   "source": [
    "import cv2\n",
    "\n",
    "credentials = {\n",
    "    \"Enase\": {\"username\": 'enase', \"password\": 7, \"profile\": 'umcimages/Enase.jpg', \"Full Name\": 'Enase Okonedo'},\n",
    "    \"Chris\": {\"username\": 'chris', \"password\": 8, \"profile\": 'umcimages/Chris.jpg', \"Full Name\": 'Chris Ogbechie'},\n",
    "    \"Donatus\": {\"username\": 'donatus', \"password\": 8, \"profile\": 'umcimages/Don.png', \"Full Name\": 'Donatus Ikechukwu Ogbuike'},\n",
    "    \"Ikechukwu\": {\"username\": 'ikechukwu', \"password\": 6, \"profile\": 'umcimages/Ikechukwu.jpg', \"Full Name\": 'Ikechukwu Obiaya'},\n",
    "    \"Sola\": {\"username\": 'sola', \"password\": 3, \"profile\": 'umcimages/Sola.jpg', \"Full Name\": 'Sola Oni'},\n",
    "    \"Darlington\": {\"username\": 'darlington', \"password\": 7, \"profile\": 'umcimages/Darlington.jpg', \"Full Name\": 'Darlington Agholor'},\n",
    "    \"Nneka\": {\"username\": 'nneka', \"password\": 8, \"profile\": 'umcimages/Nneka.png', \"Full Name\": 'Nneka Okekearu'},\n",
    "    \"Adaora\": {\"username\": 'adaora', \"password\": 5, \"profile\": 'umcimages/Adaora.jpg', \"Full Name\": 'Adaora Ijeoma Onaga'},\n",
    "    \"Peter\": {\"username\": 'peter', \"password\": 7, \"profile\": 'umcimages/Peter.jpg', \"Full Name\": 'Peter Bamkole'},\n",
    "} \n",
    "\n",
    "print('University Management Council (UMC) Login')\n",
    "username = input('Please enter your username: ')\n",
    "password = int(input('Please input your password: '))\n",
    "\n",
    "def facialrec(member):\n",
    "    image_path = credentials[member][\"profile\"]\n",
    "    image =cv2.imread(image_path)\n",
    "    cv2.imshow(\"Profile Picture\", image)\n",
    "    cv2.waitKey(0)\n",
    "    #cv2.destroyAllWindows()\n",
    "    \n",
    "found = False        \n",
    "for member, details in credentials.items():\n",
    "    if details[\"username\"] == username and details[\"password\"] == password:\n",
    "        print(f\"Login Successful! Welcome {details['Full Name']}!\")\n",
    "        facialrec(member)\n",
    "        found = True\n",
    "        break\n",
    "            \n",
    "    #else:\n",
    "     #   print(\"Invalid username or password. Please try again.\")"
   ]
  },
  {
   "cell_type": "code",
   "execution_count": null,
   "id": "d9272bd0",
   "metadata": {},
   "outputs": [],
   "source": []
  },
  {
   "cell_type": "code",
   "execution_count": null,
   "id": "dd55fd84",
   "metadata": {},
   "outputs": [],
   "source": []
  }
 ],
 "metadata": {
  "kernelspec": {
   "display_name": "Python 3 (ipykernel)",
   "language": "python",
   "name": "python3"
  },
  "language_info": {
   "codemirror_mode": {
    "name": "ipython",
    "version": 3
   },
   "file_extension": ".py",
   "mimetype": "text/x-python",
   "name": "python",
   "nbconvert_exporter": "python",
   "pygments_lexer": "ipython3",
   "version": "3.10.9"
  }
 },
 "nbformat": 4,
 "nbformat_minor": 5
}
