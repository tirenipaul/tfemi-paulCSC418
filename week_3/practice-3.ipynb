{
 "cells": [
  {
   "cell_type": "code",
   "execution_count": null,
   "id": "1c57625f",
   "metadata": {},
   "outputs": [],
   "source": [
    "import numpy as np\n",
    "import matplotlib.pyplot as plt\n",
    "import cv2 as cv\n",
    "\n",
    "img = cv.imread('img/person.jpeg', 0)\n",
    "rows, cols = img.shape\n",
    "\n",
    "#Plot the original image\n",
    "plt.subplot(1, 2, 1)\n",
    "plt.title(\"Original\")\n",
    "plt.imshow(img)\n",
    "\n",
    "img_rotation = cv.warpAffine(img,\n",
    "                            cv.getRotationMatrix2D((cols/2, rows/2),\n",
    "                                                  30, 0.6), (cols, rows))\n",
    "\n",
    "#Plot the rotated image\n",
    "plt.subplot(1, 2, 2)\n",
    "plt.title(\"Rotated Image\")\n",
    "plt.imshow(img_rotation)\n",
    "\n",
    "cv.imshow('img', img_rotation)\n",
    "cv.imwrite('rotation_out.jpg', img_rotation)\n",
    "cv.waitKey(0)\n",
    "#cv.destroyAllWindows()"
   ]
  },
  {
   "cell_type": "code",
   "execution_count": null,
   "id": "de3a3eef",
   "metadata": {},
   "outputs": [],
   "source": []
  }
 ],
 "metadata": {
  "kernelspec": {
   "display_name": "Python 3 (ipykernel)",
   "language": "python",
   "name": "python3"
  },
  "language_info": {
   "codemirror_mode": {
    "name": "ipython",
    "version": 3
   },
   "file_extension": ".py",
   "mimetype": "text/x-python",
   "name": "python",
   "nbconvert_exporter": "python",
   "pygments_lexer": "ipython3",
   "version": "3.10.9"
  }
 },
 "nbformat": 4,
 "nbformat_minor": 5
}
